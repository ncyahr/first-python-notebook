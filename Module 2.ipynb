{
 "cells": [
  {
   "cell_type": "code",
   "execution_count": 29,
   "metadata": {},
   "outputs": [
    {
     "data": {
      "text/plain": [
       "4"
      ]
     },
     "execution_count": 29,
     "metadata": {},
     "output_type": "execute_result"
    }
   ],
   "source": [
    "2 + 2"
   ]
  },
  {
   "cell_type": "code",
   "execution_count": 30,
   "metadata": {
    "collapsed": true
   },
   "outputs": [],
   "source": [
    "import pandas as pd"
   ]
  },
  {
   "cell_type": "code",
   "execution_count": 31,
   "metadata": {
    "collapsed": true
   },
   "outputs": [],
   "source": [
    "%matplotlib inline"
   ]
  },
  {
   "cell_type": "code",
   "execution_count": 32,
   "metadata": {},
   "outputs": [],
   "source": [
    "props = pd.read_csv(\"http://www.firstpythonnotebook.org/_static/committees.csv\")"
   ]
  },
  {
   "cell_type": "code",
   "execution_count": 33,
   "metadata": {},
   "outputs": [
    {
     "data": {
      "text/plain": [
       "pandas.core.frame.DataFrame"
      ]
     },
     "execution_count": 33,
     "metadata": {},
     "output_type": "execute_result"
    }
   ],
   "source": [
    "pd.DataFrame"
   ]
  },
  {
   "cell_type": "code",
   "execution_count": 34,
   "metadata": {},
   "outputs": [
    {
     "data": {
      "text/html": [
       "<div>\n",
       "<style>\n",
       "    .dataframe thead tr:only-child th {\n",
       "        text-align: right;\n",
       "    }\n",
       "\n",
       "    .dataframe thead th {\n",
       "        text-align: left;\n",
       "    }\n",
       "\n",
       "    .dataframe tbody tr th {\n",
       "        vertical-align: top;\n",
       "    }\n",
       "</style>\n",
       "<table border=\"1\" class=\"dataframe\">\n",
       "  <thead>\n",
       "    <tr style=\"text-align: right;\">\n",
       "      <th></th>\n",
       "      <th>ocd_prop_id</th>\n",
       "      <th>calaccess_prop_id</th>\n",
       "      <th>ccdc_prop_id</th>\n",
       "      <th>prop_name</th>\n",
       "      <th>ccdc_committee_id</th>\n",
       "      <th>calaccess_committee_id</th>\n",
       "      <th>committee_name</th>\n",
       "      <th>committee_position</th>\n",
       "    </tr>\n",
       "  </thead>\n",
       "  <tbody>\n",
       "    <tr>\n",
       "      <th>0</th>\n",
       "      <td>ocd-contest/b51dc64d-3562-4913-a190-69f5088c22a6</td>\n",
       "      <td>1376258</td>\n",
       "      <td>70</td>\n",
       "      <td>PROPOSITION 051 - SCHOOL BONDS. FUNDING FOR K-...</td>\n",
       "      <td>382</td>\n",
       "      <td>1374469</td>\n",
       "      <td>YES ON PROPOSITION 51 - CALIFORNIANS FOR QUALI...</td>\n",
       "      <td>SUPPORT</td>\n",
       "    </tr>\n",
       "    <tr>\n",
       "      <th>1</th>\n",
       "      <td>ocd-contest/b51dc64d-3562-4913-a190-69f5088c22a6</td>\n",
       "      <td>1376258</td>\n",
       "      <td>70</td>\n",
       "      <td>PROPOSITION 051 - SCHOOL BONDS. FUNDING FOR K-...</td>\n",
       "      <td>383</td>\n",
       "      <td>1220380</td>\n",
       "      <td>COMMUNITY COLLEGE FACILITY COALITION ISSUES CO...</td>\n",
       "      <td>SUPPORT</td>\n",
       "    </tr>\n",
       "    <tr>\n",
       "      <th>2</th>\n",
       "      <td>ocd-contest/b51dc64d-3562-4913-a190-69f5088c22a6</td>\n",
       "      <td>1376258</td>\n",
       "      <td>70</td>\n",
       "      <td>PROPOSITION 051 - SCHOOL BONDS. FUNDING FOR K-...</td>\n",
       "      <td>384</td>\n",
       "      <td>1282321</td>\n",
       "      <td>TORLAKSON'S INVEST IN CALIFORNIA A BALLOT MEAS...</td>\n",
       "      <td>SUPPORT</td>\n",
       "    </tr>\n",
       "    <tr>\n",
       "      <th>3</th>\n",
       "      <td>ocd-contest/b51dc64d-3562-4913-a190-69f5088c22a6</td>\n",
       "      <td>1376258</td>\n",
       "      <td>70</td>\n",
       "      <td>PROPOSITION 051 - SCHOOL BONDS. FUNDING FOR K-...</td>\n",
       "      <td>385</td>\n",
       "      <td>1382843</td>\n",
       "      <td>CALIFORNIA TAXPAYERS AND EDUCATORS OPPOSED TO ...</td>\n",
       "      <td>OPPOSE</td>\n",
       "    </tr>\n",
       "    <tr>\n",
       "      <th>4</th>\n",
       "      <td>ocd-contest/85990193-9d6f-4600-b8e7-bf1317841d82</td>\n",
       "      <td>1362198</td>\n",
       "      <td>71</td>\n",
       "      <td>PROPOSITION 052 - STATE FEES ON HOSPITALS. FED...</td>\n",
       "      <td>386</td>\n",
       "      <td>1362973</td>\n",
       "      <td>YES ON PROPOSITION 52 - A COALITION OF CALIFOR...</td>\n",
       "      <td>SUPPORT</td>\n",
       "    </tr>\n",
       "  </tbody>\n",
       "</table>\n",
       "</div>"
      ],
      "text/plain": [
       "                                        ocd_prop_id  calaccess_prop_id  \\\n",
       "0  ocd-contest/b51dc64d-3562-4913-a190-69f5088c22a6            1376258   \n",
       "1  ocd-contest/b51dc64d-3562-4913-a190-69f5088c22a6            1376258   \n",
       "2  ocd-contest/b51dc64d-3562-4913-a190-69f5088c22a6            1376258   \n",
       "3  ocd-contest/b51dc64d-3562-4913-a190-69f5088c22a6            1376258   \n",
       "4  ocd-contest/85990193-9d6f-4600-b8e7-bf1317841d82            1362198   \n",
       "\n",
       "   ccdc_prop_id                                          prop_name  \\\n",
       "0            70  PROPOSITION 051 - SCHOOL BONDS. FUNDING FOR K-...   \n",
       "1            70  PROPOSITION 051 - SCHOOL BONDS. FUNDING FOR K-...   \n",
       "2            70  PROPOSITION 051 - SCHOOL BONDS. FUNDING FOR K-...   \n",
       "3            70  PROPOSITION 051 - SCHOOL BONDS. FUNDING FOR K-...   \n",
       "4            71  PROPOSITION 052 - STATE FEES ON HOSPITALS. FED...   \n",
       "\n",
       "   ccdc_committee_id  calaccess_committee_id  \\\n",
       "0                382                 1374469   \n",
       "1                383                 1220380   \n",
       "2                384                 1282321   \n",
       "3                385                 1382843   \n",
       "4                386                 1362973   \n",
       "\n",
       "                                      committee_name committee_position  \n",
       "0  YES ON PROPOSITION 51 - CALIFORNIANS FOR QUALI...            SUPPORT  \n",
       "1  COMMUNITY COLLEGE FACILITY COALITION ISSUES CO...            SUPPORT  \n",
       "2  TORLAKSON'S INVEST IN CALIFORNIA A BALLOT MEAS...            SUPPORT  \n",
       "3  CALIFORNIA TAXPAYERS AND EDUCATORS OPPOSED TO ...             OPPOSE  \n",
       "4  YES ON PROPOSITION 52 - A COALITION OF CALIFOR...            SUPPORT  "
      ]
     },
     "execution_count": 34,
     "metadata": {},
     "output_type": "execute_result"
    }
   ],
   "source": [
    "props.head()"
   ]
  },
  {
   "cell_type": "code",
   "execution_count": 35,
   "metadata": {},
   "outputs": [
    {
     "data": {
      "text/html": [
       "<div>\n",
       "<style>\n",
       "    .dataframe thead tr:only-child th {\n",
       "        text-align: right;\n",
       "    }\n",
       "\n",
       "    .dataframe thead th {\n",
       "        text-align: left;\n",
       "    }\n",
       "\n",
       "    .dataframe tbody tr th {\n",
       "        vertical-align: top;\n",
       "    }\n",
       "</style>\n",
       "<table border=\"1\" class=\"dataframe\">\n",
       "  <thead>\n",
       "    <tr style=\"text-align: right;\">\n",
       "      <th></th>\n",
       "      <th>ocd_prop_id</th>\n",
       "      <th>calaccess_prop_id</th>\n",
       "      <th>ccdc_prop_id</th>\n",
       "      <th>prop_name</th>\n",
       "      <th>ccdc_committee_id</th>\n",
       "      <th>calaccess_committee_id</th>\n",
       "      <th>committee_name</th>\n",
       "      <th>committee_position</th>\n",
       "    </tr>\n",
       "  </thead>\n",
       "  <tbody>\n",
       "    <tr>\n",
       "      <th>97</th>\n",
       "      <td>ocd-contest/7495cdbe-1aa7-4c26-9a55-aa4130347b95</td>\n",
       "      <td>1372638</td>\n",
       "      <td>86</td>\n",
       "      <td>PROPOSITION 067- REFERENDUM TO OVERTURN BAN ON...</td>\n",
       "      <td>479</td>\n",
       "      <td>1329332</td>\n",
       "      <td>SAVE THE BAG BAN, YES ON 67, SPONSORED BY ENVI...</td>\n",
       "      <td>SUPPORT</td>\n",
       "    </tr>\n",
       "    <tr>\n",
       "      <th>98</th>\n",
       "      <td>ocd-contest/7495cdbe-1aa7-4c26-9a55-aa4130347b95</td>\n",
       "      <td>1372638</td>\n",
       "      <td>86</td>\n",
       "      <td>PROPOSITION 067- REFERENDUM TO OVERTURN BAN ON...</td>\n",
       "      <td>480</td>\n",
       "      <td>1374885</td>\n",
       "      <td>YES ON 67 - CALIFORNIANS AGAINST WASTE - PROTE...</td>\n",
       "      <td>SUPPORT</td>\n",
       "    </tr>\n",
       "    <tr>\n",
       "      <th>99</th>\n",
       "      <td>ocd-contest/7495cdbe-1aa7-4c26-9a55-aa4130347b95</td>\n",
       "      <td>1372638</td>\n",
       "      <td>86</td>\n",
       "      <td>PROPOSITION 067- REFERENDUM TO OVERTURN BAN ON...</td>\n",
       "      <td>481</td>\n",
       "      <td>1346973</td>\n",
       "      <td>CALIFORNIA GROCERS ASSOCIATION ISSUES COMMITTE...</td>\n",
       "      <td>SUPPORT</td>\n",
       "    </tr>\n",
       "    <tr>\n",
       "      <th>100</th>\n",
       "      <td>ocd-contest/7495cdbe-1aa7-4c26-9a55-aa4130347b95</td>\n",
       "      <td>1372638</td>\n",
       "      <td>86</td>\n",
       "      <td>PROPOSITION 067- REFERENDUM TO OVERTURN BAN ON...</td>\n",
       "      <td>482</td>\n",
       "      <td>1381938</td>\n",
       "      <td>SAVE THE BAY ACTION FUND PAC - YES ON PROP 67</td>\n",
       "      <td>SUPPORT</td>\n",
       "    </tr>\n",
       "    <tr>\n",
       "      <th>101</th>\n",
       "      <td>ocd-contest/7495cdbe-1aa7-4c26-9a55-aa4130347b95</td>\n",
       "      <td>1372638</td>\n",
       "      <td>86</td>\n",
       "      <td>PROPOSITION 067- REFERENDUM TO OVERTURN BAN ON...</td>\n",
       "      <td>483</td>\n",
       "      <td>1389817</td>\n",
       "      <td>SAVE THE BAY ACTION FUND COMMITTEE TO SUPPORT ...</td>\n",
       "      <td>SUPPORT</td>\n",
       "    </tr>\n",
       "  </tbody>\n",
       "</table>\n",
       "</div>"
      ],
      "text/plain": [
       "                                          ocd_prop_id  calaccess_prop_id  \\\n",
       "97   ocd-contest/7495cdbe-1aa7-4c26-9a55-aa4130347b95            1372638   \n",
       "98   ocd-contest/7495cdbe-1aa7-4c26-9a55-aa4130347b95            1372638   \n",
       "99   ocd-contest/7495cdbe-1aa7-4c26-9a55-aa4130347b95            1372638   \n",
       "100  ocd-contest/7495cdbe-1aa7-4c26-9a55-aa4130347b95            1372638   \n",
       "101  ocd-contest/7495cdbe-1aa7-4c26-9a55-aa4130347b95            1372638   \n",
       "\n",
       "     ccdc_prop_id                                          prop_name  \\\n",
       "97             86  PROPOSITION 067- REFERENDUM TO OVERTURN BAN ON...   \n",
       "98             86  PROPOSITION 067- REFERENDUM TO OVERTURN BAN ON...   \n",
       "99             86  PROPOSITION 067- REFERENDUM TO OVERTURN BAN ON...   \n",
       "100            86  PROPOSITION 067- REFERENDUM TO OVERTURN BAN ON...   \n",
       "101            86  PROPOSITION 067- REFERENDUM TO OVERTURN BAN ON...   \n",
       "\n",
       "     ccdc_committee_id  calaccess_committee_id  \\\n",
       "97                 479                 1329332   \n",
       "98                 480                 1374885   \n",
       "99                 481                 1346973   \n",
       "100                482                 1381938   \n",
       "101                483                 1389817   \n",
       "\n",
       "                                        committee_name committee_position  \n",
       "97   SAVE THE BAG BAN, YES ON 67, SPONSORED BY ENVI...            SUPPORT  \n",
       "98   YES ON 67 - CALIFORNIANS AGAINST WASTE - PROTE...            SUPPORT  \n",
       "99   CALIFORNIA GROCERS ASSOCIATION ISSUES COMMITTE...            SUPPORT  \n",
       "100      SAVE THE BAY ACTION FUND PAC - YES ON PROP 67            SUPPORT  \n",
       "101  SAVE THE BAY ACTION FUND COMMITTEE TO SUPPORT ...            SUPPORT  "
      ]
     },
     "execution_count": 35,
     "metadata": {},
     "output_type": "execute_result"
    }
   ],
   "source": [
    "props.tail()"
   ]
  },
  {
   "cell_type": "code",
   "execution_count": 36,
   "metadata": {},
   "outputs": [
    {
     "name": "stdout",
     "output_type": "stream",
     "text": [
      "<class 'pandas.core.frame.DataFrame'>\n",
      "RangeIndex: 102 entries, 0 to 101\n",
      "Data columns (total 8 columns):\n",
      "ocd_prop_id               102 non-null object\n",
      "calaccess_prop_id         102 non-null int64\n",
      "ccdc_prop_id              102 non-null int64\n",
      "prop_name                 102 non-null object\n",
      "ccdc_committee_id         102 non-null int64\n",
      "calaccess_committee_id    102 non-null int64\n",
      "committee_name            102 non-null object\n",
      "committee_position        102 non-null object\n",
      "dtypes: int64(4), object(4)\n",
      "memory usage: 6.4+ KB\n"
     ]
    }
   ],
   "source": [
    "props.info()"
   ]
  },
  {
   "cell_type": "code",
   "execution_count": 37,
   "metadata": {},
   "outputs": [
    {
     "data": {
      "text/plain": [
       "0      PROPOSITION 051 - SCHOOL BONDS. FUNDING FOR K-...\n",
       "1      PROPOSITION 051 - SCHOOL BONDS. FUNDING FOR K-...\n",
       "2      PROPOSITION 051 - SCHOOL BONDS. FUNDING FOR K-...\n",
       "3      PROPOSITION 051 - SCHOOL BONDS. FUNDING FOR K-...\n",
       "4      PROPOSITION 052 - STATE FEES ON HOSPITALS. FED...\n",
       "5      PROPOSITION 052 - STATE FEES ON HOSPITALS. FED...\n",
       "6      PROPOSITION 052 - STATE FEES ON HOSPITALS. FED...\n",
       "7      PROPOSITION 053 - REVENUE BONDS. STATEWIDE VOT...\n",
       "8      PROPOSITION 053 - REVENUE BONDS. STATEWIDE VOT...\n",
       "9      PROPOSITION 053 - REVENUE BONDS. STATEWIDE VOT...\n",
       "10     PROPOSITION 053 - REVENUE BONDS. STATEWIDE VOT...\n",
       "11     PROPOSITION 054 - LEGISLATURE. LEGISLATION AND...\n",
       "12     PROPOSITION 054 - LEGISLATURE. LEGISLATION AND...\n",
       "13     PROPOSITION 054 - LEGISLATURE. LEGISLATION AND...\n",
       "14     PROPOSITION 054 - LEGISLATURE. LEGISLATION AND...\n",
       "15     PROPOSITION 055 - TAX EXTENSION TO FUND EDUCAT...\n",
       "16     PROPOSITION 055 - TAX EXTENSION TO FUND EDUCAT...\n",
       "17     PROPOSITION 055 - TAX EXTENSION TO FUND EDUCAT...\n",
       "18     PROPOSITION 055 - TAX EXTENSION TO FUND EDUCAT...\n",
       "19     PROPOSITION 055 - TAX EXTENSION TO FUND EDUCAT...\n",
       "20     PROPOSITION 055 - TAX EXTENSION TO FUND EDUCAT...\n",
       "21     PROPOSITION 055 - TAX EXTENSION TO FUND EDUCAT...\n",
       "22     PROPOSITION 055 - TAX EXTENSION TO FUND EDUCAT...\n",
       "23     PROPOSITION 056 - CIGARETTE TAX TO FUND HEALTH...\n",
       "24     PROPOSITION 056 - CIGARETTE TAX TO FUND HEALTH...\n",
       "25     PROPOSITION 056 - CIGARETTE TAX TO FUND HEALTH...\n",
       "26     PROPOSITION 056 - CIGARETTE TAX TO FUND HEALTH...\n",
       "27     PROPOSITION 056 - CIGARETTE TAX TO FUND HEALTH...\n",
       "28     PROPOSITION 056 - CIGARETTE TAX TO FUND HEALTH...\n",
       "29     PROPOSITION 056 - CIGARETTE TAX TO FUND HEALTH...\n",
       "                             ...                        \n",
       "72     PROPOSITION 063- FIREARMS. AMMUNITION SALES. I...\n",
       "73     PROPOSITION 063- FIREARMS. AMMUNITION SALES. I...\n",
       "74     PROPOSITION 064- MARIJUANA LEGALIZATION. INITI...\n",
       "75     PROPOSITION 064- MARIJUANA LEGALIZATION. INITI...\n",
       "76     PROPOSITION 064- MARIJUANA LEGALIZATION. INITI...\n",
       "77     PROPOSITION 064- MARIJUANA LEGALIZATION. INITI...\n",
       "78     PROPOSITION 064- MARIJUANA LEGALIZATION. INITI...\n",
       "79     PROPOSITION 064- MARIJUANA LEGALIZATION. INITI...\n",
       "80     PROPOSITION 064- MARIJUANA LEGALIZATION. INITI...\n",
       "81     PROPOSITION 064- MARIJUANA LEGALIZATION. INITI...\n",
       "82     PROPOSITION 064- MARIJUANA LEGALIZATION. INITI...\n",
       "83     PROPOSITION 064- MARIJUANA LEGALIZATION. INITI...\n",
       "84     PROPOSITION 064- MARIJUANA LEGALIZATION. INITI...\n",
       "85     PROPOSITION 065- CARRY-OUT BAGS. CHARGES. INIT...\n",
       "86     PROPOSITION 066- DEATH PENALTY. PROCEDURES. IN...\n",
       "87     PROPOSITION 066- DEATH PENALTY. PROCEDURES. IN...\n",
       "88     PROPOSITION 066- DEATH PENALTY. PROCEDURES. IN...\n",
       "89     PROPOSITION 066- DEATH PENALTY. PROCEDURES. IN...\n",
       "90     PROPOSITION 066- DEATH PENALTY. PROCEDURES. IN...\n",
       "91     PROPOSITION 066- DEATH PENALTY. PROCEDURES. IN...\n",
       "92     PROPOSITION 066- DEATH PENALTY. PROCEDURES. IN...\n",
       "93     PROPOSITION 066- DEATH PENALTY. PROCEDURES. IN...\n",
       "94     PROPOSITION 066- DEATH PENALTY. PROCEDURES. IN...\n",
       "95     PROPOSITION 067- REFERENDUM TO OVERTURN BAN ON...\n",
       "96     PROPOSITION 067- REFERENDUM TO OVERTURN BAN ON...\n",
       "97     PROPOSITION 067- REFERENDUM TO OVERTURN BAN ON...\n",
       "98     PROPOSITION 067- REFERENDUM TO OVERTURN BAN ON...\n",
       "99     PROPOSITION 067- REFERENDUM TO OVERTURN BAN ON...\n",
       "100    PROPOSITION 067- REFERENDUM TO OVERTURN BAN ON...\n",
       "101    PROPOSITION 067- REFERENDUM TO OVERTURN BAN ON...\n",
       "Name: prop_name, Length: 102, dtype: object"
      ]
     },
     "execution_count": 37,
     "metadata": {},
     "output_type": "execute_result"
    }
   ],
   "source": [
    "props.prop_name"
   ]
  },
  {
   "cell_type": "code",
   "execution_count": 38,
   "metadata": {},
   "outputs": [
    {
     "data": {
      "text/plain": [
       "0      PROPOSITION 051 - SCHOOL BONDS. FUNDING FOR K-...\n",
       "1      PROPOSITION 051 - SCHOOL BONDS. FUNDING FOR K-...\n",
       "2      PROPOSITION 051 - SCHOOL BONDS. FUNDING FOR K-...\n",
       "3      PROPOSITION 051 - SCHOOL BONDS. FUNDING FOR K-...\n",
       "4      PROPOSITION 052 - STATE FEES ON HOSPITALS. FED...\n",
       "5      PROPOSITION 052 - STATE FEES ON HOSPITALS. FED...\n",
       "6      PROPOSITION 052 - STATE FEES ON HOSPITALS. FED...\n",
       "7      PROPOSITION 053 - REVENUE BONDS. STATEWIDE VOT...\n",
       "8      PROPOSITION 053 - REVENUE BONDS. STATEWIDE VOT...\n",
       "9      PROPOSITION 053 - REVENUE BONDS. STATEWIDE VOT...\n",
       "10     PROPOSITION 053 - REVENUE BONDS. STATEWIDE VOT...\n",
       "11     PROPOSITION 054 - LEGISLATURE. LEGISLATION AND...\n",
       "12     PROPOSITION 054 - LEGISLATURE. LEGISLATION AND...\n",
       "13     PROPOSITION 054 - LEGISLATURE. LEGISLATION AND...\n",
       "14     PROPOSITION 054 - LEGISLATURE. LEGISLATION AND...\n",
       "15     PROPOSITION 055 - TAX EXTENSION TO FUND EDUCAT...\n",
       "16     PROPOSITION 055 - TAX EXTENSION TO FUND EDUCAT...\n",
       "17     PROPOSITION 055 - TAX EXTENSION TO FUND EDUCAT...\n",
       "18     PROPOSITION 055 - TAX EXTENSION TO FUND EDUCAT...\n",
       "19     PROPOSITION 055 - TAX EXTENSION TO FUND EDUCAT...\n",
       "20     PROPOSITION 055 - TAX EXTENSION TO FUND EDUCAT...\n",
       "21     PROPOSITION 055 - TAX EXTENSION TO FUND EDUCAT...\n",
       "22     PROPOSITION 055 - TAX EXTENSION TO FUND EDUCAT...\n",
       "23     PROPOSITION 056 - CIGARETTE TAX TO FUND HEALTH...\n",
       "24     PROPOSITION 056 - CIGARETTE TAX TO FUND HEALTH...\n",
       "25     PROPOSITION 056 - CIGARETTE TAX TO FUND HEALTH...\n",
       "26     PROPOSITION 056 - CIGARETTE TAX TO FUND HEALTH...\n",
       "27     PROPOSITION 056 - CIGARETTE TAX TO FUND HEALTH...\n",
       "28     PROPOSITION 056 - CIGARETTE TAX TO FUND HEALTH...\n",
       "29     PROPOSITION 056 - CIGARETTE TAX TO FUND HEALTH...\n",
       "                             ...                        \n",
       "72     PROPOSITION 063- FIREARMS. AMMUNITION SALES. I...\n",
       "73     PROPOSITION 063- FIREARMS. AMMUNITION SALES. I...\n",
       "74     PROPOSITION 064- MARIJUANA LEGALIZATION. INITI...\n",
       "75     PROPOSITION 064- MARIJUANA LEGALIZATION. INITI...\n",
       "76     PROPOSITION 064- MARIJUANA LEGALIZATION. INITI...\n",
       "77     PROPOSITION 064- MARIJUANA LEGALIZATION. INITI...\n",
       "78     PROPOSITION 064- MARIJUANA LEGALIZATION. INITI...\n",
       "79     PROPOSITION 064- MARIJUANA LEGALIZATION. INITI...\n",
       "80     PROPOSITION 064- MARIJUANA LEGALIZATION. INITI...\n",
       "81     PROPOSITION 064- MARIJUANA LEGALIZATION. INITI...\n",
       "82     PROPOSITION 064- MARIJUANA LEGALIZATION. INITI...\n",
       "83     PROPOSITION 064- MARIJUANA LEGALIZATION. INITI...\n",
       "84     PROPOSITION 064- MARIJUANA LEGALIZATION. INITI...\n",
       "85     PROPOSITION 065- CARRY-OUT BAGS. CHARGES. INIT...\n",
       "86     PROPOSITION 066- DEATH PENALTY. PROCEDURES. IN...\n",
       "87     PROPOSITION 066- DEATH PENALTY. PROCEDURES. IN...\n",
       "88     PROPOSITION 066- DEATH PENALTY. PROCEDURES. IN...\n",
       "89     PROPOSITION 066- DEATH PENALTY. PROCEDURES. IN...\n",
       "90     PROPOSITION 066- DEATH PENALTY. PROCEDURES. IN...\n",
       "91     PROPOSITION 066- DEATH PENALTY. PROCEDURES. IN...\n",
       "92     PROPOSITION 066- DEATH PENALTY. PROCEDURES. IN...\n",
       "93     PROPOSITION 066- DEATH PENALTY. PROCEDURES. IN...\n",
       "94     PROPOSITION 066- DEATH PENALTY. PROCEDURES. IN...\n",
       "95     PROPOSITION 067- REFERENDUM TO OVERTURN BAN ON...\n",
       "96     PROPOSITION 067- REFERENDUM TO OVERTURN BAN ON...\n",
       "97     PROPOSITION 067- REFERENDUM TO OVERTURN BAN ON...\n",
       "98     PROPOSITION 067- REFERENDUM TO OVERTURN BAN ON...\n",
       "99     PROPOSITION 067- REFERENDUM TO OVERTURN BAN ON...\n",
       "100    PROPOSITION 067- REFERENDUM TO OVERTURN BAN ON...\n",
       "101    PROPOSITION 067- REFERENDUM TO OVERTURN BAN ON...\n",
       "Name: prop_name, Length: 102, dtype: object"
      ]
     },
     "execution_count": 38,
     "metadata": {},
     "output_type": "execute_result"
    }
   ],
   "source": [
    "props.prop_name"
   ]
  },
  {
   "cell_type": "code",
   "execution_count": 39,
   "metadata": {},
   "outputs": [
    {
     "data": {
      "text/plain": [
       "0      PROPOSITION 051 - SCHOOL BONDS. FUNDING FOR K-...\n",
       "1      PROPOSITION 051 - SCHOOL BONDS. FUNDING FOR K-...\n",
       "2      PROPOSITION 051 - SCHOOL BONDS. FUNDING FOR K-...\n",
       "3      PROPOSITION 051 - SCHOOL BONDS. FUNDING FOR K-...\n",
       "4      PROPOSITION 052 - STATE FEES ON HOSPITALS. FED...\n",
       "5      PROPOSITION 052 - STATE FEES ON HOSPITALS. FED...\n",
       "6      PROPOSITION 052 - STATE FEES ON HOSPITALS. FED...\n",
       "7      PROPOSITION 053 - REVENUE BONDS. STATEWIDE VOT...\n",
       "8      PROPOSITION 053 - REVENUE BONDS. STATEWIDE VOT...\n",
       "9      PROPOSITION 053 - REVENUE BONDS. STATEWIDE VOT...\n",
       "10     PROPOSITION 053 - REVENUE BONDS. STATEWIDE VOT...\n",
       "11     PROPOSITION 054 - LEGISLATURE. LEGISLATION AND...\n",
       "12     PROPOSITION 054 - LEGISLATURE. LEGISLATION AND...\n",
       "13     PROPOSITION 054 - LEGISLATURE. LEGISLATION AND...\n",
       "14     PROPOSITION 054 - LEGISLATURE. LEGISLATION AND...\n",
       "15     PROPOSITION 055 - TAX EXTENSION TO FUND EDUCAT...\n",
       "16     PROPOSITION 055 - TAX EXTENSION TO FUND EDUCAT...\n",
       "17     PROPOSITION 055 - TAX EXTENSION TO FUND EDUCAT...\n",
       "18     PROPOSITION 055 - TAX EXTENSION TO FUND EDUCAT...\n",
       "19     PROPOSITION 055 - TAX EXTENSION TO FUND EDUCAT...\n",
       "20     PROPOSITION 055 - TAX EXTENSION TO FUND EDUCAT...\n",
       "21     PROPOSITION 055 - TAX EXTENSION TO FUND EDUCAT...\n",
       "22     PROPOSITION 055 - TAX EXTENSION TO FUND EDUCAT...\n",
       "23     PROPOSITION 056 - CIGARETTE TAX TO FUND HEALTH...\n",
       "24     PROPOSITION 056 - CIGARETTE TAX TO FUND HEALTH...\n",
       "25     PROPOSITION 056 - CIGARETTE TAX TO FUND HEALTH...\n",
       "26     PROPOSITION 056 - CIGARETTE TAX TO FUND HEALTH...\n",
       "27     PROPOSITION 056 - CIGARETTE TAX TO FUND HEALTH...\n",
       "28     PROPOSITION 056 - CIGARETTE TAX TO FUND HEALTH...\n",
       "29     PROPOSITION 056 - CIGARETTE TAX TO FUND HEALTH...\n",
       "                             ...                        \n",
       "72     PROPOSITION 063- FIREARMS. AMMUNITION SALES. I...\n",
       "73     PROPOSITION 063- FIREARMS. AMMUNITION SALES. I...\n",
       "74     PROPOSITION 064- MARIJUANA LEGALIZATION. INITI...\n",
       "75     PROPOSITION 064- MARIJUANA LEGALIZATION. INITI...\n",
       "76     PROPOSITION 064- MARIJUANA LEGALIZATION. INITI...\n",
       "77     PROPOSITION 064- MARIJUANA LEGALIZATION. INITI...\n",
       "78     PROPOSITION 064- MARIJUANA LEGALIZATION. INITI...\n",
       "79     PROPOSITION 064- MARIJUANA LEGALIZATION. INITI...\n",
       "80     PROPOSITION 064- MARIJUANA LEGALIZATION. INITI...\n",
       "81     PROPOSITION 064- MARIJUANA LEGALIZATION. INITI...\n",
       "82     PROPOSITION 064- MARIJUANA LEGALIZATION. INITI...\n",
       "83     PROPOSITION 064- MARIJUANA LEGALIZATION. INITI...\n",
       "84     PROPOSITION 064- MARIJUANA LEGALIZATION. INITI...\n",
       "85     PROPOSITION 065- CARRY-OUT BAGS. CHARGES. INIT...\n",
       "86     PROPOSITION 066- DEATH PENALTY. PROCEDURES. IN...\n",
       "87     PROPOSITION 066- DEATH PENALTY. PROCEDURES. IN...\n",
       "88     PROPOSITION 066- DEATH PENALTY. PROCEDURES. IN...\n",
       "89     PROPOSITION 066- DEATH PENALTY. PROCEDURES. IN...\n",
       "90     PROPOSITION 066- DEATH PENALTY. PROCEDURES. IN...\n",
       "91     PROPOSITION 066- DEATH PENALTY. PROCEDURES. IN...\n",
       "92     PROPOSITION 066- DEATH PENALTY. PROCEDURES. IN...\n",
       "93     PROPOSITION 066- DEATH PENALTY. PROCEDURES. IN...\n",
       "94     PROPOSITION 066- DEATH PENALTY. PROCEDURES. IN...\n",
       "95     PROPOSITION 067- REFERENDUM TO OVERTURN BAN ON...\n",
       "96     PROPOSITION 067- REFERENDUM TO OVERTURN BAN ON...\n",
       "97     PROPOSITION 067- REFERENDUM TO OVERTURN BAN ON...\n",
       "98     PROPOSITION 067- REFERENDUM TO OVERTURN BAN ON...\n",
       "99     PROPOSITION 067- REFERENDUM TO OVERTURN BAN ON...\n",
       "100    PROPOSITION 067- REFERENDUM TO OVERTURN BAN ON...\n",
       "101    PROPOSITION 067- REFERENDUM TO OVERTURN BAN ON...\n",
       "Name: prop_name, Length: 102, dtype: object"
      ]
     },
     "execution_count": 39,
     "metadata": {},
     "output_type": "execute_result"
    }
   ],
   "source": [
    "props.prop_name"
   ]
  },
  {
   "cell_type": "code",
   "execution_count": 40,
   "metadata": {},
   "outputs": [
    {
     "data": {
      "text/html": [
       "<div>\n",
       "<style>\n",
       "    .dataframe thead tr:only-child th {\n",
       "        text-align: right;\n",
       "    }\n",
       "\n",
       "    .dataframe thead th {\n",
       "        text-align: left;\n",
       "    }\n",
       "\n",
       "    .dataframe tbody tr th {\n",
       "        vertical-align: top;\n",
       "    }\n",
       "</style>\n",
       "<table border=\"1\" class=\"dataframe\">\n",
       "  <thead>\n",
       "    <tr style=\"text-align: right;\">\n",
       "      <th></th>\n",
       "      <th>index</th>\n",
       "      <th>prop_name</th>\n",
       "    </tr>\n",
       "  </thead>\n",
       "  <tbody>\n",
       "    <tr>\n",
       "      <th>0</th>\n",
       "      <td>PROPOSITION 057 - CRIMINAL SENTENCES. JUVENILE...</td>\n",
       "      <td>13</td>\n",
       "    </tr>\n",
       "    <tr>\n",
       "      <th>1</th>\n",
       "      <td>PROPOSITION 056 - CIGARETTE TAX TO FUND HEALTH...</td>\n",
       "      <td>12</td>\n",
       "    </tr>\n",
       "    <tr>\n",
       "      <th>2</th>\n",
       "      <td>PROPOSITION 064- MARIJUANA LEGALIZATION. INITI...</td>\n",
       "      <td>11</td>\n",
       "    </tr>\n",
       "    <tr>\n",
       "      <th>3</th>\n",
       "      <td>PROPOSITION 066- DEATH PENALTY. PROCEDURES. IN...</td>\n",
       "      <td>9</td>\n",
       "    </tr>\n",
       "    <tr>\n",
       "      <th>4</th>\n",
       "      <td>PROPOSITION 055 - TAX EXTENSION TO FUND EDUCAT...</td>\n",
       "      <td>8</td>\n",
       "    </tr>\n",
       "    <tr>\n",
       "      <th>5</th>\n",
       "      <td>PROPOSITION 067- REFERENDUM TO OVERTURN BAN ON...</td>\n",
       "      <td>7</td>\n",
       "    </tr>\n",
       "    <tr>\n",
       "      <th>6</th>\n",
       "      <td>PROPOSITION 062- DEATH PENALTY. INITIATIVE STA...</td>\n",
       "      <td>7</td>\n",
       "    </tr>\n",
       "    <tr>\n",
       "      <th>7</th>\n",
       "      <td>PROPOSITION 059- SB 254 (CHAPTER 20, STATUTES ...</td>\n",
       "      <td>6</td>\n",
       "    </tr>\n",
       "    <tr>\n",
       "      <th>8</th>\n",
       "      <td>PROPOSITION 053 - REVENUE BONDS. STATEWIDE VOT...</td>\n",
       "      <td>4</td>\n",
       "    </tr>\n",
       "    <tr>\n",
       "      <th>9</th>\n",
       "      <td>PROPOSITION 054 - LEGISLATURE. LEGISLATION AND...</td>\n",
       "      <td>4</td>\n",
       "    </tr>\n",
       "    <tr>\n",
       "      <th>10</th>\n",
       "      <td>PROPOSITION 058 - SB 1174 (CHAPTER 753, STATUT...</td>\n",
       "      <td>4</td>\n",
       "    </tr>\n",
       "    <tr>\n",
       "      <th>11</th>\n",
       "      <td>PROPOSITION 063- FIREARMS. AMMUNITION SALES. I...</td>\n",
       "      <td>4</td>\n",
       "    </tr>\n",
       "    <tr>\n",
       "      <th>12</th>\n",
       "      <td>PROPOSITION 051 - SCHOOL BONDS. FUNDING FOR K-...</td>\n",
       "      <td>4</td>\n",
       "    </tr>\n",
       "    <tr>\n",
       "      <th>13</th>\n",
       "      <td>PROPOSITION 052 - STATE FEES ON HOSPITALS. FED...</td>\n",
       "      <td>3</td>\n",
       "    </tr>\n",
       "    <tr>\n",
       "      <th>14</th>\n",
       "      <td>PROPOSITION 061- STATE PRESCRIPTION DRUG PURCH...</td>\n",
       "      <td>3</td>\n",
       "    </tr>\n",
       "    <tr>\n",
       "      <th>15</th>\n",
       "      <td>PROPOSITION 060- ADULT FILMS. CONDOMS. HEALTH ...</td>\n",
       "      <td>2</td>\n",
       "    </tr>\n",
       "    <tr>\n",
       "      <th>16</th>\n",
       "      <td>PROPOSITION 065- CARRY-OUT BAGS. CHARGES. INIT...</td>\n",
       "      <td>1</td>\n",
       "    </tr>\n",
       "  </tbody>\n",
       "</table>\n",
       "</div>"
      ],
      "text/plain": [
       "                                                index  prop_name\n",
       "0   PROPOSITION 057 - CRIMINAL SENTENCES. JUVENILE...         13\n",
       "1   PROPOSITION 056 - CIGARETTE TAX TO FUND HEALTH...         12\n",
       "2   PROPOSITION 064- MARIJUANA LEGALIZATION. INITI...         11\n",
       "3   PROPOSITION 066- DEATH PENALTY. PROCEDURES. IN...          9\n",
       "4   PROPOSITION 055 - TAX EXTENSION TO FUND EDUCAT...          8\n",
       "5   PROPOSITION 067- REFERENDUM TO OVERTURN BAN ON...          7\n",
       "6   PROPOSITION 062- DEATH PENALTY. INITIATIVE STA...          7\n",
       "7   PROPOSITION 059- SB 254 (CHAPTER 20, STATUTES ...          6\n",
       "8   PROPOSITION 053 - REVENUE BONDS. STATEWIDE VOT...          4\n",
       "9   PROPOSITION 054 - LEGISLATURE. LEGISLATION AND...          4\n",
       "10  PROPOSITION 058 - SB 1174 (CHAPTER 753, STATUT...          4\n",
       "11  PROPOSITION 063- FIREARMS. AMMUNITION SALES. I...          4\n",
       "12  PROPOSITION 051 - SCHOOL BONDS. FUNDING FOR K-...          4\n",
       "13  PROPOSITION 052 - STATE FEES ON HOSPITALS. FED...          3\n",
       "14  PROPOSITION 061- STATE PRESCRIPTION DRUG PURCH...          3\n",
       "15  PROPOSITION 060- ADULT FILMS. CONDOMS. HEALTH ...          2\n",
       "16  PROPOSITION 065- CARRY-OUT BAGS. CHARGES. INIT...          1"
      ]
     },
     "execution_count": 40,
     "metadata": {},
     "output_type": "execute_result"
    }
   ],
   "source": [
    "props.prop_name.value_counts().reset_index()"
   ]
  },
  {
   "cell_type": "code",
   "execution_count": 41,
   "metadata": {},
   "outputs": [
    {
     "data": {
      "text/html": [
       "<div>\n",
       "<style>\n",
       "    .dataframe thead tr:only-child th {\n",
       "        text-align: right;\n",
       "    }\n",
       "\n",
       "    .dataframe thead th {\n",
       "        text-align: left;\n",
       "    }\n",
       "\n",
       "    .dataframe tbody tr th {\n",
       "        vertical-align: top;\n",
       "    }\n",
       "</style>\n",
       "<table border=\"1\" class=\"dataframe\">\n",
       "  <thead>\n",
       "    <tr style=\"text-align: right;\">\n",
       "      <th></th>\n",
       "      <th>index</th>\n",
       "      <th>committee_name</th>\n",
       "    </tr>\n",
       "  </thead>\n",
       "  <tbody>\n",
       "    <tr>\n",
       "      <th>0</th>\n",
       "      <td>MILLION VOTER PROJECT ACTION FUND - YES ON 55,...</td>\n",
       "      <td>6</td>\n",
       "    </tr>\n",
       "    <tr>\n",
       "      <th>1</th>\n",
       "      <td>FUND FOR POLICY REFORM (NONPROFIT 501(C)(4))</td>\n",
       "      <td>4</td>\n",
       "    </tr>\n",
       "    <tr>\n",
       "      <th>2</th>\n",
       "      <td>PICO CALIFORNIA - YES ON 55, 56, AND 57 (NON P...</td>\n",
       "      <td>3</td>\n",
       "    </tr>\n",
       "    <tr>\n",
       "      <th>3</th>\n",
       "      <td>MILLION VOTER PROJECT ACTION FUND - YES ON 55 ...</td>\n",
       "      <td>3</td>\n",
       "    </tr>\n",
       "    <tr>\n",
       "      <th>4</th>\n",
       "      <td>PROTEUS ACTION LEAGUE NON-PROFIT 501 (C)(4) OR...</td>\n",
       "      <td>3</td>\n",
       "    </tr>\n",
       "    <tr>\n",
       "      <th>5</th>\n",
       "      <td>CALIFORNIA CORRECTIONAL PEACE OFFICERS ASSOCIA...</td>\n",
       "      <td>2</td>\n",
       "    </tr>\n",
       "    <tr>\n",
       "      <th>6</th>\n",
       "      <td>CALIFORNIA KIDS CAMPAIGN, YES ON PROPS 55 &amp; 56...</td>\n",
       "      <td>2</td>\n",
       "    </tr>\n",
       "    <tr>\n",
       "      <th>7</th>\n",
       "      <td>COMMON SENSE KIDS ACTION, INC., YES ON PROPS. ...</td>\n",
       "      <td>2</td>\n",
       "    </tr>\n",
       "    <tr>\n",
       "      <th>8</th>\n",
       "      <td>AMERICAN PROGRESSIVE BAG ALLIANCE, A PROJECT O...</td>\n",
       "      <td>2</td>\n",
       "    </tr>\n",
       "    <tr>\n",
       "      <th>9</th>\n",
       "      <td>UNITED TEACHERS LOS ANGELES-POLITICAL ACTION C...</td>\n",
       "      <td>2</td>\n",
       "    </tr>\n",
       "  </tbody>\n",
       "</table>\n",
       "</div>"
      ],
      "text/plain": [
       "                                               index  committee_name\n",
       "0  MILLION VOTER PROJECT ACTION FUND - YES ON 55,...               6\n",
       "1       FUND FOR POLICY REFORM (NONPROFIT 501(C)(4))               4\n",
       "2  PICO CALIFORNIA - YES ON 55, 56, AND 57 (NON P...               3\n",
       "3  MILLION VOTER PROJECT ACTION FUND - YES ON 55 ...               3\n",
       "4  PROTEUS ACTION LEAGUE NON-PROFIT 501 (C)(4) OR...               3\n",
       "5  CALIFORNIA CORRECTIONAL PEACE OFFICERS ASSOCIA...               2\n",
       "6  CALIFORNIA KIDS CAMPAIGN, YES ON PROPS 55 & 56...               2\n",
       "7  COMMON SENSE KIDS ACTION, INC., YES ON PROPS. ...               2\n",
       "8  AMERICAN PROGRESSIVE BAG ALLIANCE, A PROJECT O...               2\n",
       "9  UNITED TEACHERS LOS ANGELES-POLITICAL ACTION C...               2"
      ]
     },
     "execution_count": 41,
     "metadata": {},
     "output_type": "execute_result"
    }
   ],
   "source": [
    "props.committee_name.value_counts().reset_index().head(10)"
   ]
  },
  {
   "cell_type": "code",
   "execution_count": 42,
   "metadata": {},
   "outputs": [
    {
     "data": {
      "text/plain": [
       "<bound method Series.reset_index of SUPPORT    72\n",
       "OPPOSE     30\n",
       "Name: committee_position, dtype: int64>"
      ]
     },
     "execution_count": 42,
     "metadata": {},
     "output_type": "execute_result"
    }
   ],
   "source": [
    "props.committee_position.value_counts().reset_index"
   ]
  },
  {
   "cell_type": "code",
   "execution_count": 43,
   "metadata": {},
   "outputs": [
    {
     "data": {
      "text/plain": [
       "PROPOSITION 057 - CRIMINAL SENTENCES. JUVENILE CRIMINAL PROCEEDINGS AND SENTENCING. INITIATIVE CONSTITUTIONAL AMENDMENT AND STATUTE.                           13\n",
       "PROPOSITION 056 - CIGARETTE TAX TO FUND HEALTHCARE, TOBACCO USE PREVENTION, RESEARCH, AND LAW ENFORCEMENT. INITIATIVE CONSTITUTIONAL AMENDMENT AND STATUTE.    12\n",
       "PROPOSITION 064- MARIJUANA LEGALIZATION. INITIATIVE STATUTE.                                                                                                   11\n",
       "PROPOSITION 066- DEATH PENALTY. PROCEDURES. INITIATIVE STATUTE.                                                                                                 9\n",
       "PROPOSITION 055 - TAX EXTENSION TO FUND EDUCATION AND HEALTHCARE. INITIATIVE CONSTITUTIONAL AMENDMENT.                                                          8\n",
       "PROPOSITION 067- REFERENDUM TO OVERTURN BAN ON SINGLE-USE PLASTIC BAGS.                                                                                         7\n",
       "PROPOSITION 062- DEATH PENALTY. INITIATIVE STATUTE.                                                                                                             7\n",
       "PROPOSITION 059- SB 254 (CHAPTER 20, STATUTES OF 2016), ALLEN. CAMPAIGN FINANCE: VOTER INSTRUCTION                                                              6\n",
       "PROPOSITION 053 - REVENUE BONDS. STATEWIDE VOTER APPROVAL. INITIATIVE CONSTITUTIONAL AMENDMENT.                                                                 4\n",
       "PROPOSITION 054 - LEGISLATURE. LEGISLATION AND PROCEEDINGS. INITIATIVE CONSTITUTIONAL AMENDMENT AND STATUTE.                                                    4\n",
       "PROPOSITION 058 - SB 1174 (CHAPTER 753, STATUTES OF 2014), LARA. ENGLISH LANGUAGE EDUCATION                                                                     4\n",
       "PROPOSITION 063- FIREARMS. AMMUNITION SALES. INTIATIVE STATUTE.                                                                                                 4\n",
       "PROPOSITION 051 - SCHOOL BONDS. FUNDING FOR K-12 SCHOOL AND COMMUNITY COLLEGE FACILITIES. INITIATIVE STATUTORY AMENDMENT.                                       4\n",
       "PROPOSITION 052 - STATE FEES ON HOSPITALS. FEDERAL MEDI-CAL MATCHING FUNDS. INITIATIVE STATUTORY AND CONSTITUTIONAL AMENDMENT.                                  3\n",
       "PROPOSITION 061- STATE PRESCRIPTION DRUG PURCHASES. PRICING STANDARDS. INITIATIVE STATUTE.                                                                      3\n",
       "PROPOSITION 060- ADULT FILMS. CONDOMS. HEALTH REQUIREMENTS. INITIATIVE STATUTE.                                                                                 2\n",
       "PROPOSITION 065- CARRY-OUT BAGS. CHARGES. INITIATIVE STATUTE.                                                                                                   1\n",
       "Name: prop_name, dtype: int64"
      ]
     },
     "execution_count": 43,
     "metadata": {},
     "output_type": "execute_result"
    }
   ],
   "source": [
    "props.prop_name.value_counts()"
   ]
  },
  {
   "cell_type": "code",
   "execution_count": 50,
   "metadata": {},
   "outputs": [],
   "source": [
    "prop = props[props.prop_name == \"PROPOSITION 064- MARIJUANA LEGALIZATION. INITIATIVE STATUTE.\"]"
   ]
  },
  {
   "cell_type": "code",
   "execution_count": 51,
   "metadata": {},
   "outputs": [
    {
     "name": "stdout",
     "output_type": "stream",
     "text": [
      "<class 'pandas.core.frame.DataFrame'>\n",
      "Int64Index: 11 entries, 74 to 84\n",
      "Data columns (total 8 columns):\n",
      "ocd_prop_id               11 non-null object\n",
      "calaccess_prop_id         11 non-null int64\n",
      "ccdc_prop_id              11 non-null int64\n",
      "prop_name                 11 non-null object\n",
      "ccdc_committee_id         11 non-null int64\n",
      "calaccess_committee_id    11 non-null int64\n",
      "committee_name            11 non-null object\n",
      "committee_position        11 non-null object\n",
      "dtypes: int64(4), object(4)\n",
      "memory usage: 792.0+ bytes\n"
     ]
    }
   ],
   "source": [
    "prop.info()"
   ]
  },
  {
   "cell_type": "code",
   "execution_count": 52,
   "metadata": {},
   "outputs": [
    {
     "data": {
      "text/plain": [
       "SUPPORT    8\n",
       "OPPOSE     3\n",
       "Name: committee_position, dtype: int64"
      ]
     },
     "execution_count": 52,
     "metadata": {},
     "output_type": "execute_result"
    }
   ],
   "source": [
    "prop.committee_position.value_counts()"
   ]
  },
  {
   "cell_type": "code",
   "execution_count": 53,
   "metadata": {},
   "outputs": [
    {
     "data": {
      "text/plain": [
       "SUPPORT    8\n",
       "OPPOSE     3\n",
       "Name: committee_position, dtype: int64"
      ]
     },
     "execution_count": 53,
     "metadata": {},
     "output_type": "execute_result"
    }
   ],
   "source": [
    "prop.committee_position.value_counts()"
   ]
  },
  {
   "cell_type": "code",
   "execution_count": 54,
   "metadata": {},
   "outputs": [
    {
     "name": "stdout",
     "output_type": "stream",
     "text": [
      "<class 'pandas.core.frame.DataFrame'>\n",
      "Int64Index: 11 entries, 74 to 84\n",
      "Data columns (total 8 columns):\n",
      "ocd_prop_id               11 non-null object\n",
      "calaccess_prop_id         11 non-null int64\n",
      "ccdc_prop_id              11 non-null int64\n",
      "prop_name                 11 non-null object\n",
      "ccdc_committee_id         11 non-null int64\n",
      "calaccess_committee_id    11 non-null int64\n",
      "committee_name            11 non-null object\n",
      "committee_position        11 non-null object\n",
      "dtypes: int64(4), object(4)\n",
      "memory usage: 792.0+ bytes\n"
     ]
    }
   ],
   "source": [
    "prop[props.prop_name.str.contains(\"064\")].info()"
   ]
  },
  {
   "cell_type": "code",
   "execution_count": 55,
   "metadata": {},
   "outputs": [
    {
     "data": {
      "text/plain": [
       "74    proposition 064- marijuana legalization. initi...\n",
       "75    proposition 064- marijuana legalization. initi...\n",
       "76    proposition 064- marijuana legalization. initi...\n",
       "77    proposition 064- marijuana legalization. initi...\n",
       "78    proposition 064- marijuana legalization. initi...\n",
       "79    proposition 064- marijuana legalization. initi...\n",
       "80    proposition 064- marijuana legalization. initi...\n",
       "81    proposition 064- marijuana legalization. initi...\n",
       "82    proposition 064- marijuana legalization. initi...\n",
       "83    proposition 064- marijuana legalization. initi...\n",
       "84    proposition 064- marijuana legalization. initi...\n",
       "Name: prop_name, dtype: object"
      ]
     },
     "execution_count": 55,
     "metadata": {},
     "output_type": "execute_result"
    }
   ],
   "source": [
    "prop.prop_name.str.lower()"
   ]
  },
  {
   "cell_type": "code",
   "execution_count": 56,
   "metadata": {},
   "outputs": [
    {
     "ename": "NameError",
     "evalue": "name 'contribs' is not defined",
     "output_type": "error",
     "traceback": [
      "\u001b[0;31m---------------------------------------------------------------------------\u001b[0m",
      "\u001b[0;31mNameError\u001b[0m                                 Traceback (most recent call last)",
      "\u001b[0;32m<ipython-input-56-d3d27f1d6222>\u001b[0m in \u001b[0;36m<module>\u001b[0;34m()\u001b[0m\n\u001b[0;32m----> 1\u001b[0;31m \u001b[0mmerged\u001b[0m \u001b[0;34m=\u001b[0m \u001b[0mpd\u001b[0m\u001b[0;34m.\u001b[0m\u001b[0mmerge\u001b[0m\u001b[0;34m(\u001b[0m\u001b[0mprop\u001b[0m\u001b[0;34m,\u001b[0m \u001b[0mcontribs\u001b[0m\u001b[0;34m,\u001b[0m \u001b[0mon\u001b[0m\u001b[0;34m=\u001b[0m\u001b[0;34m\"calaccess_committee_id\"\u001b[0m\u001b[0;34m)\u001b[0m\u001b[0;34m\u001b[0m\u001b[0m\n\u001b[0m",
      "\u001b[0;31mNameError\u001b[0m: name 'contribs' is not defined"
     ]
    }
   ],
   "source": [
    "merged = pd.merge(prop, contribs, on=\"calaccess_committee_id\")"
   ]
  },
  {
   "cell_type": "code",
   "execution_count": 57,
   "metadata": {},
   "outputs": [
    {
     "ename": "NameError",
     "evalue": "name 'support' is not defined",
     "output_type": "error",
     "traceback": [
      "\u001b[0;31m---------------------------------------------------------------------------\u001b[0m",
      "\u001b[0;31mNameError\u001b[0m                                 Traceback (most recent call last)",
      "\u001b[0;32m<ipython-input-57-782b5862f458>\u001b[0m in \u001b[0;36m<module>\u001b[0;34m()\u001b[0m\n\u001b[0;32m----> 1\u001b[0;31m \u001b[0mtop_supporters\u001b[0m \u001b[0;34m=\u001b[0m \u001b[0msupport\u001b[0m\u001b[0;34m.\u001b[0m\u001b[0mgroupby\u001b[0m\u001b[0;34m(\u001b[0m\u001b[0;34m[\u001b[0m\u001b[0;34m\"contributor_firstname\"\u001b[0m\u001b[0;34m,\u001b[0m \u001b[0;34m\"contributor_lastname\"\u001b[0m\u001b[0;34m]\u001b[0m\u001b[0;34m)\u001b[0m\u001b[0;34m.\u001b[0m\u001b[0mamount\u001b[0m\u001b[0;34m.\u001b[0m\u001b[0msum\u001b[0m\u001b[0;34m(\u001b[0m\u001b[0;34m)\u001b[0m\u001b[0;34m.\u001b[0m\u001b[0mreset_index\u001b[0m\u001b[0;34m(\u001b[0m\u001b[0;34m)\u001b[0m\u001b[0;34m.\u001b[0m\u001b[0msort_values\u001b[0m\u001b[0;34m(\u001b[0m\u001b[0;34m\"amount\"\u001b[0m\u001b[0;34m,\u001b[0m \u001b[0mascending\u001b[0m\u001b[0;34m=\u001b[0m\u001b[0mFalse\u001b[0m\u001b[0;34m)\u001b[0m\u001b[0;34m.\u001b[0m\u001b[0mhead\u001b[0m\u001b[0;34m(\u001b[0m\u001b[0;36m10\u001b[0m\u001b[0;34m)\u001b[0m\u001b[0;34m\u001b[0m\u001b[0m\n\u001b[0m",
      "\u001b[0;31mNameError\u001b[0m: name 'support' is not defined"
     ]
    }
   ],
   "source": [
    "top_supporters = support.groupby([\"contributor_firstname\", \"contributor_lastname\"]).amount.sum().reset_index().sort_values(\"amount\", ascending=False).head(10)"
   ]
  },
  {
   "cell_type": "code",
   "execution_count": null,
   "metadata": {
    "collapsed": true
   },
   "outputs": [],
   "source": []
  }
 ],
 "metadata": {
  "kernelspec": {
   "display_name": "Python 2",
   "language": "python",
   "name": "python2"
  },
  "language_info": {
   "codemirror_mode": {
    "name": "ipython",
    "version": 2
   },
   "file_extension": ".py",
   "mimetype": "text/x-python",
   "name": "python",
   "nbconvert_exporter": "python",
   "pygments_lexer": "ipython2",
   "version": "2.7.10"
  }
 },
 "nbformat": 4,
 "nbformat_minor": 2
}
